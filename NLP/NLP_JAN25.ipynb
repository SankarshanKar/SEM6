{
 "cells": [
  {
   "cell_type": "code",
   "execution_count": 49,
   "metadata": {},
   "outputs": [],
   "source": [
    "import spacy"
   ]
  },
  {
   "cell_type": "code",
   "execution_count": 50,
   "metadata": {},
   "outputs": [],
   "source": [
    "model = spacy.load(\"en_core_web_sm\")"
   ]
  },
  {
   "cell_type": "code",
   "execution_count": 51,
   "metadata": {},
   "outputs": [],
   "source": [
    "para = \"Voltas, Bata, TV18 Broadcast. Indigo paints among 70 NSE stocks to hit 52-week low. 18 rises to 52-week high.\""
   ]
  },
  {
   "cell_type": "code",
   "execution_count": 52,
   "metadata": {},
   "outputs": [
    {
     "name": "stdout",
     "output_type": "stream",
     "text": [
      "Voltas, Bata, TV18 Broadcast.\n",
      "Indigo paints among 70 NSE stocks to hit 52-week low.\n",
      "18 rises to 52-week high.\n"
     ]
    }
   ],
   "source": [
    "for sentence in (model(para)).sents:\n",
    "    print(sentence)"
   ]
  },
  {
   "cell_type": "code",
   "execution_count": 53,
   "metadata": {},
   "outputs": [
    {
     "name": "stdout",
     "output_type": "stream",
     "text": [
      "Voltas , Bata , TV18 Broadcast . Indigo paints among 70 NSE stocks to hit 52 - week low . 18 rises to 52 - week high . "
     ]
    }
   ],
   "source": [
    "for sentence in (model(para)).sents:\n",
    "    for word in sentence:\n",
    "        print(word, end = \" \")"
   ]
  },
  {
   "cell_type": "code",
   "execution_count": 54,
   "metadata": {},
   "outputs": [
    {
     "name": "stdout",
     "output_type": "stream",
     "text": [
      "Voltas\n",
      ",\n",
      "Bata\n",
      ",\n",
      "TV18\n",
      "Broadcast\n",
      ".\n",
      "Indigo\n",
      "paints\n",
      "among\n",
      "70\n",
      "NSE\n",
      "stocks\n",
      "to\n",
      "hit\n",
      "52\n",
      "-\n",
      "week\n",
      "low\n",
      ".\n",
      "18\n",
      "rises\n",
      "to\n",
      "52\n",
      "-\n",
      "week\n",
      "high\n",
      ".\n"
     ]
    }
   ],
   "source": [
    "for tok in model(para):\n",
    "    print(tok)"
   ]
  },
  {
   "cell_type": "code",
   "execution_count": 55,
   "metadata": {},
   "outputs": [],
   "source": [
    "str = \"Dr. John has done phD on 20th February 2020 at IIT Madras is situated at Tamil Nadu.!\""
   ]
  },
  {
   "cell_type": "code",
   "execution_count": 56,
   "metadata": {},
   "outputs": [
    {
     "name": "stdout",
     "output_type": "stream",
     "text": [
      "Dr. John has done phD on 20th February 2020 at IIT Madras is situated at Tamil Nadu.!\n"
     ]
    }
   ],
   "source": [
    "for w in model(str).sents:\n",
    "    print(w)"
   ]
  },
  {
   "cell_type": "code",
   "execution_count": 57,
   "metadata": {},
   "outputs": [
    {
     "name": "stdout",
     "output_type": "stream",
     "text": [
      "Dr\n",
      " John has done phD on 20th February 2020 at IIT Madras is situated at Tamil Nadu\n",
      "!\n"
     ]
    }
   ],
   "source": [
    "for sent in str.split('.'):\n",
    "    print(sent)"
   ]
  },
  {
   "cell_type": "code",
   "execution_count": 58,
   "metadata": {},
   "outputs": [
    {
     "name": "stdout",
     "output_type": "stream",
     "text": [
      "Dr. : Dr. : PROPN\n",
      "John : John : PROPN\n",
      "has : have : AUX\n",
      "done : do : VERB\n",
      "phD : phd : NOUN\n",
      "on : on : ADP\n",
      "20th : 20th : ADJ\n",
      "February : February : PROPN\n",
      "2020 : 2020 : NUM\n",
      "at : at : ADP\n",
      "IIT : IIT : PROPN\n",
      "Madras : Madras : PROPN\n",
      "is : be : AUX\n",
      "situated : situate : VERB\n",
      "at : at : ADP\n",
      "Tamil : Tamil : PROPN\n",
      "Nadu : Nadu : PROPN\n",
      ". : . : PUNCT\n",
      "! : ! : PUNCT\n"
     ]
    }
   ],
   "source": [
    "for lem in model(str):\n",
    "    print(lem, \":\", lem.lemma_, \":\",lem.pos_)"
   ]
  },
  {
   "cell_type": "code",
   "execution_count": 59,
   "metadata": {},
   "outputs": [
    {
     "name": "stdout",
     "output_type": "stream",
     "text": [
      "John : PERSON\n",
      "phD : PERSON\n",
      "20th February 2020 : DATE\n",
      "IIT Madras : FAC\n",
      "Tamil Nadu : FAC\n"
     ]
    }
   ],
   "source": [
    "### NER: NAMED ENTITY RECOGNITION : (var.label_)\n",
    "for token in (model(str)).ents:\n",
    "    print(token, \":\", token.label_)"
   ]
  },
  {
   "cell_type": "code",
   "execution_count": 60,
   "metadata": {},
   "outputs": [
    {
     "data": {
      "text/plain": [
       "['CARDINAL',\n",
       " 'DATE',\n",
       " 'EVENT',\n",
       " 'FAC',\n",
       " 'GPE',\n",
       " 'LANGUAGE',\n",
       " 'LAW',\n",
       " 'LOC',\n",
       " 'MONEY',\n",
       " 'NORP',\n",
       " 'ORDINAL',\n",
       " 'ORG',\n",
       " 'PERCENT',\n",
       " 'PERSON',\n",
       " 'PRODUCT',\n",
       " 'QUANTITY',\n",
       " 'TIME',\n",
       " 'WORK_OF_ART']"
      ]
     },
     "execution_count": 60,
     "metadata": {},
     "output_type": "execute_result"
    }
   ],
   "source": [
    "model.pipe_labels['ner']"
   ]
  },
  {
   "cell_type": "code",
   "execution_count": 61,
   "metadata": {},
   "outputs": [
    {
     "data": {
      "text/plain": [
       "'Countries, cities, states'"
      ]
     },
     "execution_count": 61,
     "metadata": {},
     "output_type": "execute_result"
    }
   ],
   "source": [
    "spacy.explain('GPE')"
   ]
  },
  {
   "cell_type": "code",
   "execution_count": 62,
   "metadata": {},
   "outputs": [],
   "source": [
    "model_blank = spacy.blank(\"en\")"
   ]
  },
  {
   "cell_type": "code",
   "execution_count": 64,
   "metadata": {},
   "outputs": [
    {
     "data": {
      "text/plain": [
       "[]"
      ]
     },
     "execution_count": 64,
     "metadata": {},
     "output_type": "execute_result"
    }
   ],
   "source": [
    "model_blank.pipe_names"
   ]
  },
  {
   "cell_type": "code",
   "execution_count": 67,
   "metadata": {},
   "outputs": [
    {
     "data": {
      "text/plain": [
       "<spacy.pipeline.ner.EntityRecognizer at 0x7f7240ac00b0>"
      ]
     },
     "execution_count": 67,
     "metadata": {},
     "output_type": "execute_result"
    }
   ],
   "source": [
    "model_blank.add_pipe('ner', 'tagger')"
   ]
  },
  {
   "cell_type": "code",
   "execution_count": 68,
   "metadata": {},
   "outputs": [
    {
     "data": {
      "text/plain": [
       "['ner', 'tagger']"
      ]
     },
     "execution_count": 68,
     "metadata": {},
     "output_type": "execute_result"
    }
   ],
   "source": [
    "model_blank.pipe_names"
   ]
  }
 ],
 "metadata": {
  "kernelspec": {
   "display_name": "Python 3",
   "language": "python",
   "name": "python3"
  },
  "language_info": {
   "codemirror_mode": {
    "name": "ipython",
    "version": 3
   },
   "file_extension": ".py",
   "mimetype": "text/x-python",
   "name": "python",
   "nbconvert_exporter": "python",
   "pygments_lexer": "ipython3",
   "version": "3.10.6"
  },
  "orig_nbformat": 4,
  "vscode": {
   "interpreter": {
    "hash": "916dbcbb3f70747c44a77c7bcd40155683ae19c65e1c03b4aa3499c5328201f1"
   }
  }
 },
 "nbformat": 4,
 "nbformat_minor": 2
}
