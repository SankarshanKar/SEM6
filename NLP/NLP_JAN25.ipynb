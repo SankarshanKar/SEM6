{
 "cells": [
  {
   "cell_type": "code",
   "execution_count": 1,
   "metadata": {},
   "outputs": [],
   "source": [
    "import spacy"
   ]
  },
  {
   "cell_type": "code",
   "execution_count": 2,
   "metadata": {},
   "outputs": [],
   "source": [
    "model = spacy.load(\"en_core_web_sm\")"
   ]
  },
  {
   "cell_type": "code",
   "execution_count": 3,
   "metadata": {},
   "outputs": [],
   "source": [
    "para = \"Voltas, Bata, TV18 Broadcast. Indigo paints among 70 NSE stocks to hit 52-week low. 18 rises to 52-week high.\""
   ]
  },
  {
   "cell_type": "code",
   "execution_count": 4,
   "metadata": {},
   "outputs": [
    {
     "name": "stdout",
     "output_type": "stream",
     "text": [
      "Voltas, Bata, TV18 Broadcast.\n",
      "Indigo paints among 70 NSE stocks to hit 52-week low.\n",
      "18 rises to 52-week high.\n"
     ]
    }
   ],
   "source": [
    "for sentence in (model(para)).sents:\n",
    "    print(sentence)"
   ]
  },
  {
   "cell_type": "code",
   "execution_count": 5,
   "metadata": {},
   "outputs": [
    {
     "name": "stdout",
     "output_type": "stream",
     "text": [
      "Voltas , Bata , TV18 Broadcast . Indigo paints among 70 NSE stocks to hit 52 - week low . 18 rises to 52 - week high . "
     ]
    }
   ],
   "source": [
    "for sentence in (model(para)).sents:\n",
    "    for word in sentence:\n",
    "        print(word, end = \" \")"
   ]
  },
  {
   "cell_type": "code",
   "execution_count": 6,
   "metadata": {},
   "outputs": [
    {
     "name": "stdout",
     "output_type": "stream",
     "text": [
      "Voltas\n",
      ",\n",
      "Bata\n",
      ",\n",
      "TV18\n",
      "Broadcast\n",
      ".\n",
      "Indigo\n",
      "paints\n",
      "among\n",
      "70\n",
      "NSE\n",
      "stocks\n",
      "to\n",
      "hit\n",
      "52\n",
      "-\n",
      "week\n",
      "low\n",
      ".\n",
      "18\n",
      "rises\n",
      "to\n",
      "52\n",
      "-\n",
      "week\n",
      "high\n",
      ".\n"
     ]
    }
   ],
   "source": [
    "for tok in model(para):\n",
    "    print(tok)"
   ]
  },
  {
   "cell_type": "code",
   "execution_count": 7,
   "metadata": {},
   "outputs": [],
   "source": [
    "str = \"Dr. John has done phD on 20th February 2020 at IIT Madras is situated at Tamil Nadu.!\""
   ]
  },
  {
   "cell_type": "code",
   "execution_count": 8,
   "metadata": {},
   "outputs": [
    {
     "name": "stdout",
     "output_type": "stream",
     "text": [
      "Dr. John has done phD on 20th February 2020 at IIT Madras is situated at Tamil Nadu.!\n"
     ]
    }
   ],
   "source": [
    "for w in model(str).sents:\n",
    "    print(w)"
   ]
  },
  {
   "cell_type": "code",
   "execution_count": 9,
   "metadata": {},
   "outputs": [
    {
     "name": "stdout",
     "output_type": "stream",
     "text": [
      "Dr\n",
      " John has done phD on 20th February 2020 at IIT Madras is situated at Tamil Nadu\n",
      "!\n"
     ]
    }
   ],
   "source": [
    "for sent in str.split('.'):\n",
    "    print(sent)"
   ]
  },
  {
   "cell_type": "code",
   "execution_count": 10,
   "metadata": {},
   "outputs": [
    {
     "name": "stdout",
     "output_type": "stream",
     "text": [
      "Dr. : Dr. : PROPN\n",
      "John : John : PROPN\n",
      "has : have : AUX\n",
      "done : do : VERB\n",
      "phD : phd : NOUN\n",
      "on : on : ADP\n",
      "20th : 20th : ADJ\n",
      "February : February : PROPN\n",
      "2020 : 2020 : NUM\n",
      "at : at : ADP\n",
      "IIT : IIT : PROPN\n",
      "Madras : Madras : PROPN\n",
      "is : be : AUX\n",
      "situated : situate : VERB\n",
      "at : at : ADP\n",
      "Tamil : Tamil : PROPN\n",
      "Nadu : Nadu : PROPN\n",
      ". : . : PUNCT\n",
      "! : ! : PUNCT\n"
     ]
    }
   ],
   "source": [
    "for lem in model(str):\n",
    "    print(lem, \":\", lem.lemma_, \":\",lem.pos_)"
   ]
  },
  {
   "cell_type": "code",
   "execution_count": 11,
   "metadata": {},
   "outputs": [
    {
     "name": "stdout",
     "output_type": "stream",
     "text": [
      "John : PERSON\n",
      "phD : PERSON\n",
      "20th February 2020 : DATE\n",
      "IIT Madras : FAC\n",
      "Tamil Nadu : FAC\n"
     ]
    }
   ],
   "source": [
    "### NER: NAMED ENTITY RECOGNITION : (var.label_)\n",
    "for token in (model(str)).ents:\n",
    "    print(token, \":\", token.label_)"
   ]
  },
  {
   "cell_type": "code",
   "execution_count": 12,
   "metadata": {},
   "outputs": [
    {
     "data": {
      "text/plain": [
       "['CARDINAL',\n",
       " 'DATE',\n",
       " 'EVENT',\n",
       " 'FAC',\n",
       " 'GPE',\n",
       " 'LANGUAGE',\n",
       " 'LAW',\n",
       " 'LOC',\n",
       " 'MONEY',\n",
       " 'NORP',\n",
       " 'ORDINAL',\n",
       " 'ORG',\n",
       " 'PERCENT',\n",
       " 'PERSON',\n",
       " 'PRODUCT',\n",
       " 'QUANTITY',\n",
       " 'TIME',\n",
       " 'WORK_OF_ART']"
      ]
     },
     "execution_count": 12,
     "metadata": {},
     "output_type": "execute_result"
    }
   ],
   "source": [
    "model.pipe_labels['ner']"
   ]
  },
  {
   "cell_type": "code",
   "execution_count": 13,
   "metadata": {},
   "outputs": [
    {
     "data": {
      "text/plain": [
       "'Countries, cities, states'"
      ]
     },
     "execution_count": 13,
     "metadata": {},
     "output_type": "execute_result"
    }
   ],
   "source": [
    "spacy.explain('GPE')"
   ]
  },
  {
   "cell_type": "code",
   "execution_count": 14,
   "metadata": {},
   "outputs": [],
   "source": [
    "model_blank = spacy.blank(\"en\")"
   ]
  },
  {
   "cell_type": "code",
   "execution_count": 15,
   "metadata": {},
   "outputs": [
    {
     "data": {
      "text/plain": [
       "[]"
      ]
     },
     "execution_count": 15,
     "metadata": {},
     "output_type": "execute_result"
    }
   ],
   "source": [
    "model_blank.pipe_names"
   ]
  },
  {
   "cell_type": "code",
   "execution_count": 16,
   "metadata": {},
   "outputs": [
    {
     "data": {
      "text/plain": [
       "<spacy.pipeline.ner.EntityRecognizer at 0x7f8234139690>"
      ]
     },
     "execution_count": 16,
     "metadata": {},
     "output_type": "execute_result"
    }
   ],
   "source": [
    "model_blank.add_pipe('ner', 'tagger')"
   ]
  },
  {
   "cell_type": "code",
   "execution_count": 17,
   "metadata": {},
   "outputs": [
    {
     "data": {
      "text/plain": [
       "['tagger']"
      ]
     },
     "execution_count": 17,
     "metadata": {},
     "output_type": "execute_result"
    }
   ],
   "source": [
    "model_blank.pipe_names"
   ]
  }
 ],
 "metadata": {
  "kernelspec": {
   "display_name": "Python 3",
   "language": "python",
   "name": "python3"
  },
  "language_info": {
   "codemirror_mode": {
    "name": "ipython",
    "version": 3
   },
   "file_extension": ".py",
   "mimetype": "text/x-python",
   "name": "python",
   "nbconvert_exporter": "python",
   "pygments_lexer": "ipython3",
   "version": "3.10.6"
  },
  "orig_nbformat": 4,
  "vscode": {
   "interpreter": {
    "hash": "916dbcbb3f70747c44a77c7bcd40155683ae19c65e1c03b4aa3499c5328201f1"
   }
  }
 },
 "nbformat": 4,
 "nbformat_minor": 2
}
